{
 "cells": [
  {
   "cell_type": "code",
   "execution_count": null,
   "metadata": {},
   "outputs": [],
   "source": [
    "作業\n",
    "1. 專案的目標？ (要解決什麼問題）\n",
    "(一)Workshops provide an informal, cutting edge venue for discussion of work in progress and future directions. Good workshops have helped to crystallize common problems, explicitly contrast competing frameworks, and clarify essential questions for a subfield or application area.          \n",
    "(二)Workshops are a structured means of bringing together people with common interests to form communities. Good workshops should include some form of community building.\n",
    "2. 使用的技術是？ \n",
    "Organizers should submit proposals as a single PDF file on CMT.  We suggest the following headings for your proposal, although a proposal can come in any format that allows the evaluation criteria to be assessed.  We expect most proposals to be around 3 pages.\n",
    "\n",
    "Suggested headings:\n",
    "\n",
    "Title: Keep the workshop title short and descriptive.\n",
    "\n",
    "Organizers and biographies: Include short biographies that highlight both organizational experience and technical expertise.\n",
    "\n",
    "Workshop summary: 2-3 paragraphs summarizing the workshop topic, including the problems you would like to see solved, why these problems are important, and how the workshop will contribute to their solution.\n",
    "\n",
    "Tentative schedule: Include a list of tentative/confirmed speakers with a brief description of each (clearly stating which have confirmed). Explain how you will encourage discussion throughout the day.\n",
    "\n",
    "Diversity commitment: Give an explicit statement on how the workshop will address diversity of all forms, as described in the guidance above.\n",
    "\n",
    "Access: Describe anything you plan to do to allow those unable to attend in person to engage, as described in the guidance above.\n",
    "\n",
    "Previous related workshops: List related workshops at NeurIPS, ICML, or other venues.  Describe what makes this workshop enticingly different to the hundreds of NeurIPS workshops held previously.\n",
    "\n",
    "Any other relevant information\n",
    "3. 資料來源？\n",
    "https://nips.cc/Conferences/2019/CallForWorkshops"
   ]
  }
 ],
 "metadata": {
  "kernelspec": {
   "display_name": "Python 3",
   "language": "python",
   "name": "python3"
  },
  "language_info": {
   "codemirror_mode": {
    "name": "ipython",
    "version": 3
   },
   "file_extension": ".py",
   "mimetype": "text/x-python",
   "name": "python",
   "nbconvert_exporter": "python",
   "pygments_lexer": "ipython3",
   "version": "3.7.6"
  }
 },
 "nbformat": 4,
 "nbformat_minor": 4
}
